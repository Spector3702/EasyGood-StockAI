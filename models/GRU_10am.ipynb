{
 "cells": [
  {
   "cell_type": "code",
   "execution_count": 1,
   "metadata": {},
   "outputs": [],
   "source": [
    "import numpy as np\n",
    "import pandas as pd\n",
    "from tensorflow.keras.models import Sequential\n",
    "from tensorflow.keras.layers import Dense, GRU\n",
    "from sklearn.preprocessing import MinMaxScaler\n",
    "from sklearn.model_selection import train_test_split"
   ]
  },
  {
   "cell_type": "code",
   "execution_count": 2,
   "metadata": {},
   "outputs": [
    {
     "data": {
      "text/html": [
       "<div>\n",
       "<style scoped>\n",
       "    .dataframe tbody tr th:only-of-type {\n",
       "        vertical-align: middle;\n",
       "    }\n",
       "\n",
       "    .dataframe tbody tr th {\n",
       "        vertical-align: top;\n",
       "    }\n",
       "\n",
       "    .dataframe thead th {\n",
       "        text-align: right;\n",
       "    }\n",
       "</style>\n",
       "<table border=\"1\" class=\"dataframe\">\n",
       "  <thead>\n",
       "    <tr style=\"text-align: right;\">\n",
       "      <th></th>\n",
       "      <th>date</th>\n",
       "      <th>9am</th>\n",
       "      <th>10am</th>\n",
       "      <th>2pm</th>\n",
       "    </tr>\n",
       "  </thead>\n",
       "  <tbody>\n",
       "    <tr>\n",
       "      <th>0</th>\n",
       "      <td>10/17</td>\n",
       "      <td>90</td>\n",
       "      <td>95</td>\n",
       "      <td>99</td>\n",
       "    </tr>\n",
       "    <tr>\n",
       "      <th>1</th>\n",
       "      <td>10/18</td>\n",
       "      <td>100</td>\n",
       "      <td>105</td>\n",
       "      <td>110</td>\n",
       "    </tr>\n",
       "    <tr>\n",
       "      <th>2</th>\n",
       "      <td>10/19</td>\n",
       "      <td>111</td>\n",
       "      <td>112</td>\n",
       "      <td>113</td>\n",
       "    </tr>\n",
       "  </tbody>\n",
       "</table>\n",
       "</div>"
      ],
      "text/plain": [
       "    date  9am  10am  2pm\n",
       "0  10/17   90    95   99\n",
       "1  10/18  100   105  110\n",
       "2  10/19  111   112  113"
      ]
     },
     "execution_count": 2,
     "metadata": {},
     "output_type": "execute_result"
    }
   ],
   "source": [
    "data = {\n",
    "    \"date\": [\"10/17\", \"10/18\", \"10/19\"],\n",
    "    \"9am\": [90, 100, 111],\n",
    "    \"10am\": [95, 105, 112],\n",
    "    \"2pm\": [99, 110, 113]\n",
    "}\n",
    "df = pd.DataFrame(data)\n",
    "df"
   ]
  },
  {
   "cell_type": "code",
   "execution_count": 3,
   "metadata": {},
   "outputs": [
    {
     "data": {
      "text/plain": [
       "array([[0.        , 0.        , 0.        ],\n",
       "       [0.47619048, 0.58823529, 0.78571429],\n",
       "       [1.        , 1.        , 1.        ]])"
      ]
     },
     "execution_count": 3,
     "metadata": {},
     "output_type": "execute_result"
    }
   ],
   "source": [
    "# Sort data by date\n",
    "df = df.sort_values(by='date')\n",
    "\n",
    "# Drop 'date' column for now\n",
    "df = df.drop(['date'], axis=1)\n",
    "\n",
    "# Normalize data\n",
    "scaler = MinMaxScaler()\n",
    "scaled_data = scaler.fit_transform(df)\n",
    "scaled_data"
   ]
  },
  {
   "cell_type": "code",
   "execution_count": 4,
   "metadata": {},
   "outputs": [
    {
     "data": {
      "text/plain": [
       "[[0.0, 0.4761904761904763, 0.5882352941176476], [0.7857142857142856, 1.0, 1.0]]"
      ]
     },
     "execution_count": 4,
     "metadata": {},
     "output_type": "execute_result"
    }
   ],
   "source": [
    "# Initialize X and y using the scaled data\n",
    "X, y = [], []\n",
    "\n",
    "# Column indices in scaled_data corresponding to '2pm', '9am', '10am'\n",
    "idx_2pm, idx_9am, idx_10am = df.columns.get_loc('2pm'), df.columns.get_loc('9am'), df.columns.get_loc('10am')\n",
    "\n",
    "for i in range(1, len(scaled_data)):\n",
    "    X.append([scaled_data[i-1, idx_2pm], scaled_data[i, idx_9am], scaled_data[i, idx_10am]])\n",
    "    y.append(scaled_data[i, idx_2pm])\n",
    "\n",
    "X"
   ]
  },
  {
   "cell_type": "code",
   "execution_count": 5,
   "metadata": {},
   "outputs": [],
   "source": [
    "# Split into train and test sets\n",
    "X_train, X_test, y_train, y_test = train_test_split(X, y, test_size=0.2, random_state=42)"
   ]
  },
  {
   "cell_type": "code",
   "execution_count": 6,
   "metadata": {},
   "outputs": [],
   "source": [
    "# Create the GRU model\n",
    "model = Sequential()\n",
    "model.add(GRU(units=50, return_sequences=True, input_shape=(3, 1)))\n",
    "model.add(GRU(units=50, return_sequences=False))\n",
    "model.add(Dense(units=1))\n",
    "model.compile(optimizer='adam', loss='mean_squared_error')"
   ]
  },
  {
   "cell_type": "code",
   "execution_count": 7,
   "metadata": {},
   "outputs": [
    {
     "name": "stdout",
     "output_type": "stream",
     "text": [
      "Epoch 1/100\n",
      "1/1 [==============================] - 3s 3s/step - loss: 0.5611\n",
      "Epoch 2/100\n",
      "1/1 [==============================] - 0s 8ms/step - loss: 0.5153\n",
      "Epoch 3/100\n",
      "1/1 [==============================] - 0s 8ms/step - loss: 0.4710\n",
      "Epoch 4/100\n",
      "1/1 [==============================] - 0s 10ms/step - loss: 0.4277\n",
      "Epoch 5/100\n",
      "1/1 [==============================] - 0s 8ms/step - loss: 0.3855\n",
      "Epoch 6/100\n",
      "1/1 [==============================] - 0s 9ms/step - loss: 0.3442\n",
      "Epoch 7/100\n",
      "1/1 [==============================] - 0s 8ms/step - loss: 0.3039\n",
      "Epoch 8/100\n",
      "1/1 [==============================] - 0s 8ms/step - loss: 0.2647\n",
      "Epoch 9/100\n",
      "1/1 [==============================] - 0s 8ms/step - loss: 0.2266\n",
      "Epoch 10/100\n",
      "1/1 [==============================] - 0s 9ms/step - loss: 0.1899\n",
      "Epoch 11/100\n",
      "1/1 [==============================] - 0s 11ms/step - loss: 0.1550\n",
      "Epoch 12/100\n",
      "1/1 [==============================] - 0s 10ms/step - loss: 0.1222\n",
      "Epoch 13/100\n",
      "1/1 [==============================] - 0s 10ms/step - loss: 0.0920\n",
      "Epoch 14/100\n",
      "1/1 [==============================] - 0s 10ms/step - loss: 0.0650\n",
      "Epoch 15/100\n",
      "1/1 [==============================] - 0s 8ms/step - loss: 0.0418\n",
      "Epoch 16/100\n",
      "1/1 [==============================] - 0s 9ms/step - loss: 0.0232\n",
      "Epoch 17/100\n",
      "1/1 [==============================] - 0s 9ms/step - loss: 0.0098\n",
      "Epoch 18/100\n",
      "1/1 [==============================] - 0s 9ms/step - loss: 0.0020\n",
      "Epoch 19/100\n",
      "1/1 [==============================] - 0s 7ms/step - loss: 6.6071e-05\n",
      "Epoch 20/100\n",
      "1/1 [==============================] - 0s 9ms/step - loss: 0.0034\n",
      "Epoch 21/100\n",
      "1/1 [==============================] - 0s 8ms/step - loss: 0.0107\n",
      "Epoch 22/100\n",
      "1/1 [==============================] - 0s 9ms/step - loss: 0.0195\n",
      "Epoch 23/100\n",
      "1/1 [==============================] - 0s 8ms/step - loss: 0.0275\n",
      "Epoch 24/100\n",
      "1/1 [==============================] - 0s 9ms/step - loss: 0.0327\n",
      "Epoch 25/100\n",
      "1/1 [==============================] - 0s 9ms/step - loss: 0.0342\n",
      "Epoch 26/100\n",
      "1/1 [==============================] - 0s 8ms/step - loss: 0.0322\n",
      "Epoch 27/100\n",
      "1/1 [==============================] - 0s 8ms/step - loss: 0.0277\n",
      "Epoch 28/100\n",
      "1/1 [==============================] - 0s 9ms/step - loss: 0.0218\n",
      "Epoch 29/100\n",
      "1/1 [==============================] - 0s 9ms/step - loss: 0.0157\n",
      "Epoch 30/100\n",
      "1/1 [==============================] - 0s 9ms/step - loss: 0.0101\n",
      "Epoch 31/100\n",
      "1/1 [==============================] - 0s 9ms/step - loss: 0.0056\n",
      "Epoch 32/100\n",
      "1/1 [==============================] - 0s 8ms/step - loss: 0.0024\n",
      "Epoch 33/100\n",
      "1/1 [==============================] - 0s 9ms/step - loss: 6.4029e-04\n",
      "Epoch 34/100\n",
      "1/1 [==============================] - 0s 8ms/step - loss: 1.0193e-05\n",
      "Epoch 35/100\n",
      "1/1 [==============================] - 0s 9ms/step - loss: 2.7230e-04\n",
      "Epoch 36/100\n",
      "1/1 [==============================] - 0s 9ms/step - loss: 0.0011\n",
      "Epoch 37/100\n",
      "1/1 [==============================] - 0s 9ms/step - loss: 0.0023\n",
      "Epoch 38/100\n",
      "1/1 [==============================] - 0s 9ms/step - loss: 0.0035\n",
      "Epoch 39/100\n",
      "1/1 [==============================] - 0s 8ms/step - loss: 0.0045\n",
      "Epoch 40/100\n",
      "1/1 [==============================] - 0s 9ms/step - loss: 0.0053\n",
      "Epoch 41/100\n",
      "1/1 [==============================] - 0s 9ms/step - loss: 0.0057\n",
      "Epoch 42/100\n",
      "1/1 [==============================] - 0s 10ms/step - loss: 0.0057\n",
      "Epoch 43/100\n",
      "1/1 [==============================] - 0s 17ms/step - loss: 0.0055\n",
      "Epoch 44/100\n",
      "1/1 [==============================] - 0s 9ms/step - loss: 0.0049\n",
      "Epoch 45/100\n",
      "1/1 [==============================] - 0s 9ms/step - loss: 0.0042\n",
      "Epoch 46/100\n",
      "1/1 [==============================] - 0s 9ms/step - loss: 0.0033\n",
      "Epoch 47/100\n",
      "1/1 [==============================] - 0s 10ms/step - loss: 0.0024\n",
      "Epoch 48/100\n",
      "1/1 [==============================] - 0s 9ms/step - loss: 0.0016\n",
      "Epoch 49/100\n",
      "1/1 [==============================] - 0s 8ms/step - loss: 9.2802e-04\n",
      "Epoch 50/100\n",
      "1/1 [==============================] - 0s 9ms/step - loss: 4.2282e-04\n",
      "Epoch 51/100\n",
      "1/1 [==============================] - 0s 9ms/step - loss: 1.1595e-04\n",
      "Epoch 52/100\n",
      "1/1 [==============================] - 0s 10ms/step - loss: 1.9713e-06\n",
      "Epoch 53/100\n",
      "1/1 [==============================] - 0s 8ms/step - loss: 5.2214e-05\n",
      "Epoch 54/100\n",
      "1/1 [==============================] - 0s 9ms/step - loss: 2.2054e-04\n",
      "Epoch 55/100\n",
      "1/1 [==============================] - 0s 9ms/step - loss: 4.5133e-04\n",
      "Epoch 56/100\n",
      "1/1 [==============================] - 0s 9ms/step - loss: 6.8857e-04\n",
      "Epoch 57/100\n",
      "1/1 [==============================] - 0s 9ms/step - loss: 8.8435e-04\n",
      "Epoch 58/100\n",
      "1/1 [==============================] - 0s 8ms/step - loss: 0.0010\n",
      "Epoch 59/100\n",
      "1/1 [==============================] - 0s 9ms/step - loss: 0.0010\n",
      "Epoch 60/100\n",
      "1/1 [==============================] - 0s 10ms/step - loss: 9.7914e-04\n",
      "Epoch 61/100\n",
      "1/1 [==============================] - 0s 11ms/step - loss: 8.5113e-04\n",
      "Epoch 62/100\n",
      "1/1 [==============================] - 0s 9ms/step - loss: 6.7815e-04\n",
      "Epoch 63/100\n",
      "1/1 [==============================] - 0s 9ms/step - loss: 4.8944e-04\n",
      "Epoch 64/100\n",
      "1/1 [==============================] - 0s 9ms/step - loss: 3.1200e-04\n",
      "Epoch 65/100\n",
      "1/1 [==============================] - 0s 9ms/step - loss: 1.6651e-04\n",
      "Epoch 66/100\n",
      "1/1 [==============================] - 0s 9ms/step - loss: 6.5208e-05\n",
      "Epoch 67/100\n",
      "1/1 [==============================] - 0s 10ms/step - loss: 1.1457e-05\n",
      "Epoch 68/100\n",
      "1/1 [==============================] - 0s 9ms/step - loss: 9.7274e-07\n",
      "Epoch 69/100\n",
      "1/1 [==============================] - 0s 8ms/step - loss: 2.3919e-05\n",
      "Epoch 70/100\n",
      "1/1 [==============================] - 0s 9ms/step - loss: 6.7478e-05\n",
      "Epoch 71/100\n",
      "1/1 [==============================] - 0s 11ms/step - loss: 1.1835e-04\n",
      "Epoch 72/100\n",
      "1/1 [==============================] - 0s 10ms/step - loss: 1.6483e-04\n",
      "Epoch 73/100\n",
      "1/1 [==============================] - 0s 9ms/step - loss: 1.9825e-04\n",
      "Epoch 74/100\n",
      "1/1 [==============================] - 0s 10ms/step - loss: 2.1371e-04\n",
      "Epoch 75/100\n",
      "1/1 [==============================] - 0s 10ms/step - loss: 2.1011e-04\n",
      "Epoch 76/100\n",
      "1/1 [==============================] - 0s 9ms/step - loss: 1.8969e-04\n",
      "Epoch 77/100\n",
      "1/1 [==============================] - 0s 8ms/step - loss: 1.5707e-04\n",
      "Epoch 78/100\n",
      "1/1 [==============================] - 0s 10ms/step - loss: 1.1816e-04\n",
      "Epoch 79/100\n",
      "1/1 [==============================] - 0s 8ms/step - loss: 7.9040e-05\n",
      "Epoch 80/100\n",
      "1/1 [==============================] - 0s 9ms/step - loss: 4.4944e-05\n",
      "Epoch 81/100\n",
      "1/1 [==============================] - 0s 9ms/step - loss: 1.9555e-05\n",
      "Epoch 82/100\n",
      "1/1 [==============================] - 0s 8ms/step - loss: 4.6330e-06\n",
      "Epoch 83/100\n",
      "1/1 [==============================] - 0s 10ms/step - loss: 3.0070e-11\n",
      "Epoch 84/100\n",
      "1/1 [==============================] - 0s 9ms/step - loss: 3.8567e-06\n",
      "Epoch 85/100\n",
      "1/1 [==============================] - 0s 9ms/step - loss: 1.3320e-05\n",
      "Epoch 86/100\n",
      "1/1 [==============================] - 0s 9ms/step - loss: 2.5084e-05\n",
      "Epoch 87/100\n",
      "1/1 [==============================] - 0s 11ms/step - loss: 3.6054e-05\n",
      "Epoch 88/100\n",
      "1/1 [==============================] - 0s 10ms/step - loss: 4.3851e-05\n",
      "Epoch 89/100\n",
      "1/1 [==============================] - 0s 9ms/step - loss: 4.7129e-05\n",
      "Epoch 90/100\n",
      "1/1 [==============================] - 0s 8ms/step - loss: 4.5630e-05\n",
      "Epoch 91/100\n",
      "1/1 [==============================] - 0s 10ms/step - loss: 4.0055e-05\n",
      "Epoch 92/100\n",
      "1/1 [==============================] - 0s 9ms/step - loss: 3.1771e-05\n",
      "Epoch 93/100\n",
      "1/1 [==============================] - 0s 10ms/step - loss: 2.2424e-05\n",
      "Epoch 94/100\n",
      "1/1 [==============================] - 0s 9ms/step - loss: 1.3610e-05\n",
      "Epoch 95/100\n",
      "1/1 [==============================] - 0s 11ms/step - loss: 6.5650e-06\n",
      "Epoch 96/100\n",
      "1/1 [==============================] - 0s 9ms/step - loss: 2.0092e-06\n",
      "Epoch 97/100\n",
      "1/1 [==============================] - 0s 11ms/step - loss: 9.7773e-08\n",
      "Epoch 98/100\n",
      "1/1 [==============================] - 0s 10ms/step - loss: 4.9150e-07\n",
      "Epoch 99/100\n",
      "1/1 [==============================] - 0s 9ms/step - loss: 2.5047e-06\n",
      "Epoch 100/100\n",
      "1/1 [==============================] - 0s 9ms/step - loss: 5.2939e-06\n"
     ]
    },
    {
     "data": {
      "text/plain": [
       "<keras.src.callbacks.History at 0x219054a03a0>"
      ]
     },
     "execution_count": 7,
     "metadata": {},
     "output_type": "execute_result"
    }
   ],
   "source": [
    "# Train the model\n",
    "model.fit(X_train, y_train, epochs=100, batch_size=32, verbose=1)"
   ]
  },
  {
   "cell_type": "code",
   "execution_count": 8,
   "metadata": {},
   "outputs": [
    {
     "name": "stdout",
     "output_type": "stream",
     "text": [
      "1/1 [==============================] - 1s 655ms/step\n"
     ]
    },
    {
     "ename": "AttributeError",
     "evalue": "'list' object has no attribute 'reshape'",
     "output_type": "error",
     "traceback": [
      "\u001b[1;31m---------------------------------------------------------------------------\u001b[0m",
      "\u001b[1;31mAttributeError\u001b[0m                            Traceback (most recent call last)",
      "\u001b[1;32mc:\\Users\\overf\\Desktop\\git_repo\\StockMarketIndexAI\\models\\LSTM_10am.ipynb 儲存格 8\u001b[0m line \u001b[0;36m5\n\u001b[0;32m      <a href='vscode-notebook-cell:/c%3A/Users/overf/Desktop/git_repo/StockMarketIndexAI/models/LSTM_10am.ipynb#X13sZmlsZQ%3D%3D?line=1'>2</a>\u001b[0m predicted_stock_price \u001b[39m=\u001b[39m model\u001b[39m.\u001b[39mpredict(X_test)\n\u001b[0;32m      <a href='vscode-notebook-cell:/c%3A/Users/overf/Desktop/git_repo/StockMarketIndexAI/models/LSTM_10am.ipynb#X13sZmlsZQ%3D%3D?line=3'>4</a>\u001b[0m \u001b[39m# Inverse transformation to get actual value\u001b[39;00m\n\u001b[1;32m----> <a href='vscode-notebook-cell:/c%3A/Users/overf/Desktop/git_repo/StockMarketIndexAI/models/LSTM_10am.ipynb#X13sZmlsZQ%3D%3D?line=4'>5</a>\u001b[0m predicted_stock_price \u001b[39m=\u001b[39m scaler\u001b[39m.\u001b[39minverse_transform(np\u001b[39m.\u001b[39mconcatenate((X_test\u001b[39m.\u001b[39;49mreshape(X_test\u001b[39m.\u001b[39mshape[\u001b[39m0\u001b[39m], \u001b[39m-\u001b[39m\u001b[39m1\u001b[39m)[:, :\u001b[39m-\u001b[39m\u001b[39m1\u001b[39m], predicted_stock_price), axis\u001b[39m=\u001b[39m\u001b[39m1\u001b[39m))[:, \u001b[39m-\u001b[39m\u001b[39m1\u001b[39m]\n\u001b[0;32m      <a href='vscode-notebook-cell:/c%3A/Users/overf/Desktop/git_repo/StockMarketIndexAI/models/LSTM_10am.ipynb#X13sZmlsZQ%3D%3D?line=5'>6</a>\u001b[0m predicted_stock_price\n",
      "\u001b[1;31mAttributeError\u001b[0m: 'list' object has no attribute 'reshape'"
     ]
    }
   ],
   "source": [
    "# Prediction and performance check\n",
    "predicted_stock_price = model.predict(X_test)\n",
    "\n",
    "# Inverse transformation to get actual value\n",
    "predicted_stock_price = scaler.inverse_transform(np.concatenate((X_test.reshape(X_test.shape[0], -1)[:, :-1], predicted_stock_price), axis=1))[:, -1]\n",
    "predicted_stock_price\n"
   ]
  },
  {
   "cell_type": "code",
   "execution_count": null,
   "metadata": {},
   "outputs": [],
   "source": []
  }
 ],
 "metadata": {
  "kernelspec": {
   "display_name": "StockMarketIndexAI",
   "language": "python",
   "name": "python3"
  },
  "language_info": {
   "codemirror_mode": {
    "name": "ipython",
    "version": 3
   },
   "file_extension": ".py",
   "mimetype": "text/x-python",
   "name": "python",
   "nbconvert_exporter": "python",
   "pygments_lexer": "ipython3",
   "version": "3.8.18"
  }
 },
 "nbformat": 4,
 "nbformat_minor": 2
}
