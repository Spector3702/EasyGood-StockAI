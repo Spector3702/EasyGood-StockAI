{
 "cells": [
  {
   "cell_type": "code",
   "execution_count": 2,
   "metadata": {},
   "outputs": [],
   "source": [
    "from linebot import LineBotApi\n",
    "from linebot.models import *"
   ]
  },
  {
   "cell_type": "code",
   "execution_count": 3,
   "metadata": {},
   "outputs": [],
   "source": [
    "token = '3+6U76yxT4cU/ADsqm7RYh1i/iH8Xcytmm5zRNrIWk5KvOy57eHp7RvoU/0WKgxhh9Ss8K/FsgMoQOtsTsZZDvYnb63zIqAxjKvnhX8hFbvVkW2qQloLDoaVr1mL4FlBbW0vlxCmIjMqAORBXoLfJAdB04t89/1O/w1cDnyilFU='\n",
    "line_bot_api = LineBotApi(token)"
   ]
  },
  {
   "cell_type": "code",
   "execution_count": 4,
   "metadata": {},
   "outputs": [],
   "source": [
    "def build_richmenu(image_path):\n",
    "        new_rich_menu = RichMenu(\n",
    "            size=RichMenuSize(width=2500, height=1686),\n",
    "            selected=True,\n",
    "            name=\"New rich menu\",\n",
    "            chat_bar_text=\"Tab to open\",\n",
    "            areas=[\n",
    "                RichMenuArea(\n",
    "                    bounds=RichMenuBounds(x=0, y=0, width=833, height=843),\n",
    "                    action=MessageAction(label=\"多/空方精選個股\", text=\"多/空方精選個股\")\n",
    "                ),\n",
    "                RichMenuArea(\n",
    "                    bounds=RichMenuBounds(x=833, y=0, width=833, height=843),\n",
    "                    action=MessageAction(label=\"大盤預測\", text=\"大盤預測\")\n",
    "                ),\n",
    "                RichMenuArea(\n",
    "                    bounds=RichMenuBounds(x=1666, y=0, width=834, height=843),\n",
    "                    action=MessageAction(label=\"推播新聞\", text=\"推播新聞\")\n",
    "                ),\n",
    "                RichMenuArea(\n",
    "                    bounds=RichMenuBounds(x=0, y=843, width=833, height=843),\n",
    "                    action=MessageAction(label=\"股市光明燈\", text=\"股市光明燈\")\n",
    "                ),\n",
    "                RichMenuArea(\n",
    "                    bounds=RichMenuBounds(x=833, y=843, width=833, height=843),\n",
    "                    action=MessageAction(label=\"理財建議書\", text=\"理財建議書\")\n",
    "                ),\n",
    "                RichMenuArea(\n",
    "                    bounds=RichMenuBounds(x=1666, y=843, width=834, height=843),\n",
    "                    action=MessageAction(label=\"美國四大指數\", text=\"美國四大指數\")\n",
    "                )\n",
    "            ]\n",
    "        )\n",
    "        \n",
    "        rich_menu_id = line_bot_api.create_rich_menu(rich_menu=new_rich_menu)\n",
    "        with open(image_path, 'rb') as f:\n",
    "            line_bot_api.set_rich_menu_image(rich_menu_id, \"image/jpeg\", f)\n",
    "        line_bot_api.set_default_rich_menu(rich_menu_id)"
   ]
  },
  {
   "cell_type": "code",
   "execution_count": 5,
   "metadata": {},
   "outputs": [
    {
     "name": "stderr",
     "output_type": "stream",
     "text": [
      "C:\\Users\\aa901\\AppData\\Roaming\\Python\\Python37\\site-packages\\ipykernel_launcher.py:35: LineBotSdkDeprecatedIn30: Call to deprecated method create_rich_menu. (Use 'from linebot.v3.messaging import MessagingApi' and 'MessagingApi(...).create_rich_menu(...)' instead. See https://github.com/line/line-bot-sdk-python/blob/master/README.rst for more details.) -- Deprecated since version 3.0.0.\n",
      "C:\\Users\\aa901\\AppData\\Roaming\\Python\\Python37\\site-packages\\ipykernel_launcher.py:37: LineBotSdkDeprecatedIn30: Call to deprecated method set_rich_menu_image. (Use 'from linebot.v3.messaging import MessagingApiBlob' and 'MessagingApiBlob.set_rich_menu_image(...)' instead. See https://github.com/line/line-bot-sdk-python/blob/master/README.rst for more details.) -- Deprecated since version 3.0.0.\n",
      "C:\\Users\\aa901\\AppData\\Roaming\\Python\\Python37\\site-packages\\ipykernel_launcher.py:38: LineBotSdkDeprecatedIn30: Call to deprecated method set_default_rich_menu. (Use 'from linebot.v3.messaging import MessagingApi' and 'MessagingApi(...).set_default_rich_menu(...)' instead. See https://github.com/line/line-bot-sdk-python/blob/master/README.rst for more details.) -- Deprecated since version 3.0.0.\n"
     ]
    }
   ],
   "source": [
    "build_richmenu('../imgs/richmenu.jpg')"
   ]
  }
 ],
 "metadata": {
  "kernelspec": {
   "display_name": "StockAI",
   "language": "python",
   "name": "python3"
  },
  "language_info": {
   "codemirror_mode": {
    "name": "ipython",
    "version": 3
   },
   "file_extension": ".py",
   "mimetype": "text/x-python",
   "name": "python",
   "nbconvert_exporter": "python",
   "pygments_lexer": "ipython3",
   "version": "3.7.5"
  }
 },
 "nbformat": 4,
 "nbformat_minor": 2
}
