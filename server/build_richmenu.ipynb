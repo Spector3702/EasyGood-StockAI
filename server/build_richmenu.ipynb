{
 "cells": [
  {
   "cell_type": "code",
   "execution_count": 1,
   "metadata": {},
   "outputs": [],
   "source": [
    "from linebot import LineBotApi\n",
    "from linebot.models import *"
   ]
  },
  {
   "cell_type": "code",
   "execution_count": 2,
   "metadata": {},
   "outputs": [],
   "source": [
    "token = '3+6U76yxT4cU/ADsqm7RYh1i/iH8Xcytmm5zRNrIWk5KvOy57eHp7RvoU/0WKgxhh9Ss8K/FsgMoQOtsTsZZDvYnb63zIqAxjKvnhX8hFbvVkW2qQloLDoaVr1mL4FlBbW0vlxCmIjMqAORBXoLfJAdB04t89/1O/w1cDnyilFU='\n",
    "line_bot_api = LineBotApi(token)"
   ]
  },
  {
   "cell_type": "code",
   "execution_count": 3,
   "metadata": {},
   "outputs": [],
   "source": [
    "def build_richmenu(image_path):\n",
    "        new_rich_menu = RichMenu(\n",
    "            size=RichMenuSize(width=2500, height=1686),\n",
    "            selected=True,\n",
    "            name=\"New rich menu\",\n",
    "            chat_bar_text=\"Tab to open\",\n",
    "            areas=[\n",
    "                RichMenuArea(\n",
    "                    bounds=RichMenuBounds(x=0, y=0, width=833, height=843),\n",
    "                    action=MessageAction(label=\"多/空方精選個股\", text=\"多/空方精選個股\")\n",
    "                ),\n",
    "                RichMenuArea(\n",
    "                    bounds=RichMenuBounds(x=833, y=0, width=833, height=843),\n",
    "                    action=MessageAction(label=\"大盤預測\", text=\"大盤預測\")\n",
    "                ),\n",
    "                RichMenuArea(\n",
    "                    bounds=RichMenuBounds(x=1666, y=0, width=834, height=843),\n",
    "                    action=MessageAction(label=\"推播新聞\", text=\"推播新聞\")\n",
    "                ),\n",
    "                RichMenuArea(\n",
    "                    bounds=RichMenuBounds(x=0, y=843, width=833, height=843),\n",
    "                    action=MessageAction(label=\"股市光明燈\", text=\"股市光明燈\")\n",
    "                ),\n",
    "                RichMenuArea(\n",
    "                    bounds=RichMenuBounds(x=833, y=843, width=833, height=843),\n",
    "                    action=MessageAction(label=\"理財建議書\", text=\"理財建議書\")\n",
    "                ),\n",
    "                RichMenuArea(\n",
    "                    bounds=RichMenuBounds(x=1666, y=843, width=834, height=843),\n",
    "                    action=MessageAction(label=\"美國四大指數\", text=\"美國四大指數\")\n",
    "                )\n",
    "            ]\n",
    "        )\n",
    "        \n",
    "        rich_menu_id = line_bot_api.create_rich_menu(rich_menu=new_rich_menu)\n",
    "        with open(image_path, 'rb') as f:\n",
    "            line_bot_api.set_rich_menu_image(rich_menu_id, \"image/jpeg\", f)\n",
    "        line_bot_api.set_default_rich_menu(rich_menu_id)"
   ]
  },
  {
   "cell_type": "code",
   "execution_count": 4,
   "metadata": {},
   "outputs": [
    {
     "name": "stderr",
     "output_type": "stream",
     "text": [
      "C:\\Users\\aa901\\AppData\\Roaming\\Python\\Python37\\site-packages\\ipykernel_launcher.py:35: LineBotSdkDeprecatedIn30: Call to deprecated method create_rich_menu. (Use 'from linebot.v3.messaging import MessagingApi' and 'MessagingApi(...).create_rich_menu(...)' instead. See https://github.com/line/line-bot-sdk-python/blob/master/README.rst for more details.) -- Deprecated since version 3.0.0.\n"
     ]
    },
    {
     "ename": "FileNotFoundError",
     "evalue": "[Errno 2] No such file or directory: 'imgs/richmenu.jpg'",
     "output_type": "error",
     "traceback": [
      "\u001b[1;31m---------------------------------------------------------------------------\u001b[0m",
      "\u001b[1;31mFileNotFoundError\u001b[0m                         Traceback (most recent call last)",
      "\u001b[1;32m~\\AppData\\Local\\Temp\\ipykernel_25660\\4052257308.py\u001b[0m in \u001b[0;36m<module>\u001b[1;34m\u001b[0m\n\u001b[1;32m----> 1\u001b[1;33m \u001b[0mbuild_richmenu\u001b[0m\u001b[1;33m(\u001b[0m\u001b[1;34m'imgs/richmenu.jpg'\u001b[0m\u001b[1;33m)\u001b[0m\u001b[1;33m\u001b[0m\u001b[1;33m\u001b[0m\u001b[0m\n\u001b[0m",
      "\u001b[1;32m~\\AppData\\Local\\Temp\\ipykernel_25660\\3057441370.py\u001b[0m in \u001b[0;36mbuild_richmenu\u001b[1;34m(image_path)\u001b[0m\n\u001b[0;32m     34\u001b[0m \u001b[1;33m\u001b[0m\u001b[0m\n\u001b[0;32m     35\u001b[0m         \u001b[0mrich_menu_id\u001b[0m \u001b[1;33m=\u001b[0m \u001b[0mline_bot_api\u001b[0m\u001b[1;33m.\u001b[0m\u001b[0mcreate_rich_menu\u001b[0m\u001b[1;33m(\u001b[0m\u001b[0mrich_menu\u001b[0m\u001b[1;33m=\u001b[0m\u001b[0mnew_rich_menu\u001b[0m\u001b[1;33m)\u001b[0m\u001b[1;33m\u001b[0m\u001b[1;33m\u001b[0m\u001b[0m\n\u001b[1;32m---> 36\u001b[1;33m         \u001b[1;32mwith\u001b[0m \u001b[0mopen\u001b[0m\u001b[1;33m(\u001b[0m\u001b[0mimage_path\u001b[0m\u001b[1;33m,\u001b[0m \u001b[1;34m'rb'\u001b[0m\u001b[1;33m)\u001b[0m \u001b[1;32mas\u001b[0m \u001b[0mf\u001b[0m\u001b[1;33m:\u001b[0m\u001b[1;33m\u001b[0m\u001b[1;33m\u001b[0m\u001b[0m\n\u001b[0m\u001b[0;32m     37\u001b[0m             \u001b[0mline_bot_api\u001b[0m\u001b[1;33m.\u001b[0m\u001b[0mset_rich_menu_image\u001b[0m\u001b[1;33m(\u001b[0m\u001b[0mrich_menu_id\u001b[0m\u001b[1;33m,\u001b[0m \u001b[1;34m\"image/jpeg\"\u001b[0m\u001b[1;33m,\u001b[0m \u001b[0mf\u001b[0m\u001b[1;33m)\u001b[0m\u001b[1;33m\u001b[0m\u001b[1;33m\u001b[0m\u001b[0m\n\u001b[0;32m     38\u001b[0m         \u001b[0mline_bot_api\u001b[0m\u001b[1;33m.\u001b[0m\u001b[0mset_default_rich_menu\u001b[0m\u001b[1;33m(\u001b[0m\u001b[0mrich_menu_id\u001b[0m\u001b[1;33m)\u001b[0m\u001b[1;33m\u001b[0m\u001b[1;33m\u001b[0m\u001b[0m\n",
      "\u001b[1;31mFileNotFoundError\u001b[0m: [Errno 2] No such file or directory: 'imgs/richmenu.jpg'"
     ]
    }
   ],
   "source": [
    "build_richmenu('imgs/richmenu.jpg')"
   ]
  }
 ],
 "metadata": {
  "kernelspec": {
   "display_name": "StockAI",
   "language": "python",
   "name": "python3"
  },
  "language_info": {
   "codemirror_mode": {
    "name": "ipython",
    "version": 3
   },
   "file_extension": ".py",
   "mimetype": "text/x-python",
   "name": "python",
   "nbconvert_exporter": "python",
   "pygments_lexer": "ipython3",
   "version": "3.7.5"
  }
 },
 "nbformat": 4,
 "nbformat_minor": 2
}
