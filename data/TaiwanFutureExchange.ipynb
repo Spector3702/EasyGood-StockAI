{
 "cells": [
  {
   "cell_type": "code",
   "execution_count": 1,
   "metadata": {},
   "outputs": [],
   "source": [
    "import io\n",
    "import pandas as pd\n",
    "from bs4 import BeautifulSoup\n",
    "from selenium import webdriver\n",
    "from selenium.webdriver.chrome.service import Service\n",
    "from selenium.webdriver.support.ui import WebDriverWait\n",
    "from selenium.webdriver.support import expected_conditions as EC\n",
    "from selenium.webdriver.common.by import By"
   ]
  },
  {
   "cell_type": "code",
   "execution_count": 2,
   "metadata": {},
   "outputs": [],
   "source": [
    "def click_yesterday_button(driver):\n",
    "    button_xpath = \"/html/body/div[1]/div[4]/div[2]/div/div[3]/form/table/tbody/tr[4]/td/input[2]\"\n",
    "    button = driver.find_element(\"xpath\", button_xpath)\n",
    "    button.click()"
   ]
  },
  {
   "cell_type": "code",
   "execution_count": 3,
   "metadata": {},
   "outputs": [],
   "source": [
    "def retrieve_date(driver):\n",
    "    input_element_xpath = \"/html/body/div[1]/div[4]/div[2]/div/div[3]/form/table/tbody/tr[2]/td/table/tbody/tr[1]/td[2]/input\"\n",
    "    input_element = driver.find_element(\"xpath\", input_element_xpath)\n",
    "    date = input_element.get_attribute(\"value\")\n",
    "    return date"
   ]
  },
  {
   "cell_type": "code",
   "execution_count": 4,
   "metadata": {},
   "outputs": [],
   "source": [
    "def retrieve_table_content(driver):\n",
    "    page_content = driver.page_source\n",
    "    soup = BeautifulSoup(page_content, \"html.parser\")\n",
    "    target_table = soup.select_one(\"div > div > div > div > table > tbody > tr:nth-of-type(2) > td > table:nth-of-type(1)\")\n",
    "    return target_table"
   ]
  },
  {
   "cell_type": "code",
   "execution_count": 5,
   "metadata": {},
   "outputs": [],
   "source": [
    "def process_table_to_rawdata(target_table, date):\n",
    "    df = pd.read_html(io.StringIO(str(target_table)))[0]\n",
    "    df.columns = df.iloc[2]\n",
    "    df = df.drop([0, 1, 2]).reset_index(drop=True)\n",
    "    df = df.iloc[:, [1, 2, -2]]\n",
    "    df = df.iloc[:3]\n",
    "    df_pivoted = df.pivot(index='商品 名稱', columns='身份別', values='口數').reset_index()\n",
    "    df_pivoted['Date'] = date\n",
    "    df_pivoted = df_pivoted[['Date'] + [col for col in df_pivoted if col != 'Date']]\n",
    "    return df_pivoted"
   ]
  },
  {
   "cell_type": "code",
   "execution_count": 6,
   "metadata": {},
   "outputs": [],
   "source": [
    "def wait_for_page_load(driver, timeout=10):\n",
    "    element_present = EC.presence_of_element_located((By.XPATH, \"/html/body/div[1]/div[4]/div[2]/div/div[3]/form/table/tbody/tr[4]/td/input[2]\"))\n",
    "    WebDriverWait(driver, timeout).until(element_present)"
   ]
  },
  {
   "cell_type": "code",
   "execution_count": 7,
   "metadata": {},
   "outputs": [],
   "source": [
    "service = Service(executable_path='/usr/local/bin/chromedriver')\n",
    "options = webdriver.ChromeOptions()\n",
    "driver = webdriver.Chrome(service=service, options=options)"
   ]
  },
  {
   "cell_type": "code",
   "execution_count": 8,
   "metadata": {},
   "outputs": [],
   "source": [
    "URL = \"https://www.taifex.com.tw/cht/3/futContractsDate\"\n",
    "driver.get(URL)"
   ]
  },
  {
   "cell_type": "code",
   "execution_count": 9,
   "metadata": {},
   "outputs": [],
   "source": [
    "for i in range(1000):\n",
    "    date = retrieve_date(driver)\n",
    "    target_table = retrieve_table_content(driver)\n",
    "\n",
    "    if target_table:\n",
    "        df_pivoted = process_table_to_rawdata(target_table, date)\n",
    "\n",
    "        with open('TaiwanFuturesExchange.csv', 'a') as f:\n",
    "            df_pivoted.to_csv(f, header=False, index=False)\n",
    "\n",
    "    click_yesterday_button(driver)\n",
    "    wait_for_page_load(driver)"
   ]
  },
  {
   "cell_type": "code",
   "execution_count": 10,
   "metadata": {},
   "outputs": [],
   "source": [
    "driver.quit()"
   ]
  },
  {
   "cell_type": "code",
   "execution_count": null,
   "metadata": {},
   "outputs": [],
   "source": []
  }
 ],
 "metadata": {
  "kernelspec": {
   "display_name": "StockMarketIndexAI",
   "language": "python",
   "name": "python3"
  },
  "language_info": {
   "codemirror_mode": {
    "name": "ipython",
    "version": 3
   },
   "file_extension": ".py",
   "mimetype": "text/x-python",
   "name": "python",
   "nbconvert_exporter": "python",
   "pygments_lexer": "ipython3",
   "version": "3.11.5"
  },
  "orig_nbformat": 4
 },
 "nbformat": 4,
 "nbformat_minor": 2
}
