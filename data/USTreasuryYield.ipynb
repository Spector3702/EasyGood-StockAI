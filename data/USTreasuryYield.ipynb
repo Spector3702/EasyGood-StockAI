{
  "nbformat": 4,
  "nbformat_minor": 0,
  "metadata": {
    "colab": {
      "provenance": []
    },
    "kernelspec": {
      "name": "python3",
      "display_name": "Python 3"
    },
    "language_info": {
      "name": "python"
    }
  },
  "cells": [
    {
      "cell_type": "code",
      "execution_count": null,
      "metadata": {
        "id": "iYIGqPfWZjHA"
      },
      "outputs": [],
      "source": [
        "import requests\n",
        "import io\n",
        "import pandas as pd\n",
        "from bs4 import BeautifulSoup\n",
        "from google.colab import files"
      ]
    },
    {
      "cell_type": "code",
      "source": [
        "URL = \"https://www.stockq.org/bond/treasury.php\"\n",
        "headers = {\n",
        "    \"User-Agent\": \"Mozilla/5.0 (Windows NT 10.0; Win64; x64) AppleWebKit/537.36 (KHTML, like Gecko) Chrome/91.0.4472.124 Safari/537.36\"\n",
        "}"
      ],
      "metadata": {
        "id": "cJm2dPGApTMC"
      },
      "execution_count": null,
      "outputs": []
    },
    {
      "cell_type": "code",
      "source": [
        "response = requests.get(URL, headers=headers)"
      ],
      "metadata": {
        "id": "m9zKZvF0pV8K"
      },
      "execution_count": null,
      "outputs": []
    },
    {
      "cell_type": "code",
      "source": [
        "if response.status_code == 200:\n",
        "    soup = BeautifulSoup(response.content, \"html.parser\")\n",
        "\n",
        "    table = soup.select_one('html > body > table > tr > td:nth-child(2) > center:nth-of-type(4)')\n",
        "    if table:\n",
        "        df = pd.read_html(str(table))[0]\n",
        "        print(df)\n",
        "\n",
        "        csv_path = 'TaiwanBondReturnrate.csv'\n",
        "        df.to_csv(csv_path, index=False, encoding=\"utf-8-sig\")\n",
        "        files.download(csv_path)\n",
        "    else:\n",
        "        print('Element not found.')\n"
      ],
      "metadata": {
        "colab": {
          "base_uri": "https://localhost:8080/",
          "height": 1000
        },
        "id": "VlJf5KzGpWFb",
        "outputId": "09c4cf8e-07ce-434b-a927-d33958167720"
      },
      "execution_count": null,
      "outputs": [
        {
          "output_type": "stream",
          "name": "stdout",
          "text": [
            "                      0                     1                     2   \\\n",
            "0   美國公債殖利率 - StockQ.org  美國公債殖利率 - StockQ.org  美國公債殖利率 - StockQ.org   \n",
            "1                    公債期                    1月                    2月   \n",
            "2             2023/07/31                  5.48                  5.54   \n",
            "3             2023/07/28                  5.47                  5.54   \n",
            "4             2023/07/27                  5.47                  5.55   \n",
            "5             2023/07/26                  5.46                  5.53   \n",
            "6             2023/07/25                  5.46                  5.54   \n",
            "7             2023/07/24                  5.44                  5.54   \n",
            "8             2023/07/21                  5.43                  5.54   \n",
            "9             2023/07/20                  5.44                  5.53   \n",
            "10            2023/07/19                  5.37                  5.51   \n",
            "11            2023/07/18                  5.37                  5.50   \n",
            "12            2023/07/17                  5.37                  5.51   \n",
            "13            2023/07/14                  5.37                  5.49   \n",
            "14            2023/07/13                  5.37                  5.50   \n",
            "15            2023/07/12                  5.36                  5.49   \n",
            "16            2023/07/11                  5.35                  5.48   \n",
            "17            2023/07/10                  5.34                  5.47   \n",
            "18            2023/07/07                  5.32                  5.47   \n",
            "19            2023/07/06                  5.32                  5.47   \n",
            "20            2023/07/05                  5.28                  5.38   \n",
            "21            2023/07/03                  5.27                  5.40   \n",
            "\n",
            "                      3                     4                     5   \\\n",
            "0   美國公債殖利率 - StockQ.org  美國公債殖利率 - StockQ.org  美國公債殖利率 - StockQ.org   \n",
            "1                     3月                    6月                    1年   \n",
            "2                   5.55                  5.53                  5.37   \n",
            "3                   5.52                  5.54                  5.37   \n",
            "4                   5.51                  5.56                  5.40   \n",
            "5                   5.51                  5.55                  5.37   \n",
            "6                   5.51                  5.57                  5.38   \n",
            "7                   5.51                  5.55                  5.38   \n",
            "8                   5.50                  5.53                  5.35   \n",
            "9                   5.49                  5.52                  5.35   \n",
            "10                  5.49                  5.51                  5.32   \n",
            "11                  5.49                  5.51                  5.32   \n",
            "12                  5.49                  5.52                  5.33   \n",
            "13                  5.49                  5.52                  5.34   \n",
            "14                  5.47                  5.49                  5.27   \n",
            "15                  5.47                  5.53                  5.35   \n",
            "16                  5.49                  5.55                  5.44   \n",
            "17                  5.48                  5.54                  5.38   \n",
            "18                  5.46                  5.53                  5.41   \n",
            "19                  5.46                  5.54                  5.44   \n",
            "20                  5.44                  5.52                  5.40   \n",
            "21                  5.44                  5.53                  5.43   \n",
            "\n",
            "                      6                     7                     8   \\\n",
            "0   美國公債殖利率 - StockQ.org  美國公債殖利率 - StockQ.org  美國公債殖利率 - StockQ.org   \n",
            "1                     2年                    3年                    5年   \n",
            "2                   4.88                  4.51                  4.18   \n",
            "3                   4.87                  4.52                  4.18   \n",
            "4                   4.91                  4.58                  4.24   \n",
            "5                   4.82                  4.47                  4.09   \n",
            "6                   4.85                  4.53                  4.15   \n",
            "7                   4.81                  4.48                  4.13   \n",
            "8                   4.82                  4.44                  4.09   \n",
            "9                   4.80                  4.43                  4.08   \n",
            "10                  4.74                  4.34                  3.98   \n",
            "11                  4.74                  4.35                  4.00   \n",
            "12                  4.74                  4.34                  4.02   \n",
            "13                  4.74                  4.35                  4.04   \n",
            "14                  4.59                  4.21                  3.93   \n",
            "15                  4.72                  4.36                  4.07   \n",
            "16                  4.88                  4.52                  4.24   \n",
            "17                  4.85                  4.54                  4.25   \n",
            "18                  4.94                  4.64                  4.35   \n",
            "19                  4.99                  4.68                  4.37   \n",
            "20                  4.94                  4.59                  4.25   \n",
            "21                  4.94                  4.56                  4.19   \n",
            "\n",
            "                      9                     10                    11  \\\n",
            "0   美國公債殖利率 - StockQ.org  美國公債殖利率 - StockQ.org  美國公債殖利率 - StockQ.org   \n",
            "1                     7年                   10年                   20年   \n",
            "2                   4.08                  3.97                  4.22   \n",
            "3                   4.08                  3.96                  4.22   \n",
            "4                   4.13                  4.01                  4.26   \n",
            "5                   3.99                  3.86                  4.12   \n",
            "6                   4.05                  3.91                  4.14   \n",
            "7                   4.00                  3.86                  4.11   \n",
            "8                   3.97                  3.84                  4.10   \n",
            "9                   3.98                  3.85                  4.10   \n",
            "10                  3.87                  3.75                  4.01   \n",
            "11                  3.90                  3.80                  4.08   \n",
            "12                  3.91                  3.81                  4.10   \n",
            "13                  3.94                  3.83                  4.11   \n",
            "14                  3.85                  3.76                  4.07   \n",
            "15                  3.97                  3.86                  4.14   \n",
            "16                  4.13                  3.99                  4.22   \n",
            "17                  4.14                  4.01                  4.24   \n",
            "18                  4.23                  4.06                  4.27   \n",
            "19                  4.22                  4.05                  4.23   \n",
            "20                  4.11                  3.95                  4.17   \n",
            "21                  4.03                  3.86                  4.08   \n",
            "\n",
            "                      12  \n",
            "0   美國公債殖利率 - StockQ.org  \n",
            "1                    30年  \n",
            "2                   4.02  \n",
            "3                   4.03  \n",
            "4                   4.06  \n",
            "5                   3.94  \n",
            "6                   3.95  \n",
            "7                   3.92  \n",
            "8                   3.91  \n",
            "9                   3.91  \n",
            "10                  3.84  \n",
            "11                  3.91  \n",
            "12                  3.94  \n",
            "13                  3.93  \n",
            "14                  3.90  \n",
            "15                  3.96  \n",
            "16                  4.03  \n",
            "17                  4.05  \n",
            "18                  4.05  \n",
            "19                  4.01  \n",
            "20                  3.95  \n",
            "21                  3.87  \n"
          ]
        },
        {
          "output_type": "display_data",
          "data": {
            "text/plain": [
              "<IPython.core.display.Javascript object>"
            ],
            "application/javascript": [
              "\n",
              "    async function download(id, filename, size) {\n",
              "      if (!google.colab.kernel.accessAllowed) {\n",
              "        return;\n",
              "      }\n",
              "      const div = document.createElement('div');\n",
              "      const label = document.createElement('label');\n",
              "      label.textContent = `Downloading \"${filename}\": `;\n",
              "      div.appendChild(label);\n",
              "      const progress = document.createElement('progress');\n",
              "      progress.max = size;\n",
              "      div.appendChild(progress);\n",
              "      document.body.appendChild(div);\n",
              "\n",
              "      const buffers = [];\n",
              "      let downloaded = 0;\n",
              "\n",
              "      const channel = await google.colab.kernel.comms.open(id);\n",
              "      // Send a message to notify the kernel that we're ready.\n",
              "      channel.send({})\n",
              "\n",
              "      for await (const message of channel.messages) {\n",
              "        // Send a message to notify the kernel that we're ready.\n",
              "        channel.send({})\n",
              "        if (message.buffers) {\n",
              "          for (const buffer of message.buffers) {\n",
              "            buffers.push(buffer);\n",
              "            downloaded += buffer.byteLength;\n",
              "            progress.value = downloaded;\n",
              "          }\n",
              "        }\n",
              "      }\n",
              "      const blob = new Blob(buffers, {type: 'application/binary'});\n",
              "      const a = document.createElement('a');\n",
              "      a.href = window.URL.createObjectURL(blob);\n",
              "      a.download = filename;\n",
              "      div.appendChild(a);\n",
              "      a.click();\n",
              "      div.remove();\n",
              "    }\n",
              "  "
            ]
          },
          "metadata": {}
        },
        {
          "output_type": "display_data",
          "data": {
            "text/plain": [
              "<IPython.core.display.Javascript object>"
            ],
            "application/javascript": [
              "download(\"download_049bb1e5-98a4-42e8-88a9-4e5954c207d3\", \"TaiwanBondReturnrate.csv\", 1980)"
            ]
          },
          "metadata": {}
        }
      ]
    },
    {
      "cell_type": "code",
      "source": [],
      "metadata": {
        "id": "7OeVMGF4QyVH"
      },
      "execution_count": null,
      "outputs": []
    }
  ]
}