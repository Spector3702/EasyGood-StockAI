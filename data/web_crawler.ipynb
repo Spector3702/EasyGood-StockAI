{
 "cells": [
  {
   "cell_type": "code",
   "execution_count": 10,
   "metadata": {},
   "outputs": [],
   "source": [
    "import requests\n",
    "import io\n",
    "import pandas as pd\n",
    "from bs4 import BeautifulSoup"
   ]
  },
  {
   "cell_type": "code",
   "execution_count": 2,
   "metadata": {},
   "outputs": [],
   "source": [
    "URL = \"https://www.taifex.com.tw/cht/3/futContractsDate\"\n",
    "headers = {\n",
    "    \"User-Agent\": \"Mozilla/5.0 (Windows NT 10.0; Win64; x64) AppleWebKit/537.36 (KHTML, like Gecko) Chrome/91.0.4472.124 Safari/537.36\"\n",
    "}"
   ]
  },
  {
   "cell_type": "code",
   "execution_count": 3,
   "metadata": {},
   "outputs": [],
   "source": [
    "response = requests.get(URL, headers=headers)"
   ]
  },
  {
   "cell_type": "code",
   "execution_count": 11,
   "metadata": {},
   "outputs": [
    {
     "name": "stdout",
     "output_type": "stream",
     "text": [
      "       0          1     2          3          4          5          6   \\\n",
      "0     NaN        NaN   NaN  交易口數與契約金額  交易口數與契約金額  交易口數與契約金額  交易口數與契約金額   \n",
      "1     NaN        NaN   NaN         多方         多方         空方         空方   \n",
      "2     序 號      商品 名稱   身份別         口數      契約 金額         口數      契約 金額   \n",
      "3       1       臺股期貨   自營商       8075   26316211       7994   26042287   \n",
      "4       1       臺股期貨    投信        378    1235178        187     610237   \n",
      "..    ...        ...   ...        ...        ...        ...        ...   \n",
      "62     20  英國富時100期貨    外資         52      20088         41      15865   \n",
      "63  期貨 小計      期貨 小計   自營商      35464   40383081      39290   40764466   \n",
      "64  期貨 小計      期貨 小計    投信        379    1235865        191     613492   \n",
      "65  期貨 小計      期貨 小計    外資     236473  281484547     225968  267616334   \n",
      "66   期貨合計       期貨合計  期貨合計     272316  323103493     265449  308994292   \n",
      "\n",
      "           7          8       9          10      11         12       13  \\\n",
      "0   交易口數與契約金額  交易口數與契約金額   未平倉餘額      未平倉餘額   未平倉餘額      未平倉餘額    未平倉餘額   \n",
      "1        多空淨額       多空淨額      多方         多方      空方         空方     多空淨額   \n",
      "2          口數      契約 金額      口數      契約 金額      口數      契約 金額       口數   \n",
      "3          81     273924    4940   16146956    5748   18787490     -808   \n",
      "4         191     624941   14478   47325686   11644   38061907     2834   \n",
      "..        ...        ...     ...        ...     ...        ...      ...   \n",
      "62         11       4224      76      29306      68      26279        8   \n",
      "63      -3826    -381384   40023   26794660  205630   74921698  -165607   \n",
      "64        188     622373   18235   50366278   15384   42534247     2851   \n",
      "65      10505   13868215  158342  125607958  226830  174570204   -68488   \n",
      "66       6867   14109204  216600  202768896  447844  292026149  -231244   \n",
      "\n",
      "           14  \n",
      "0       未平倉餘額  \n",
      "1        多空淨額  \n",
      "2       契約 金額  \n",
      "3    -2640534  \n",
      "4     9263779  \n",
      "..        ...  \n",
      "62       3027  \n",
      "63  -48127038  \n",
      "64    7832031  \n",
      "65  -48962246  \n",
      "66  -89257253  \n",
      "\n",
      "[67 rows x 15 columns]\n"
     ]
    }
   ],
   "source": [
    "if response.status_code == 200:\n",
    "    soup = BeautifulSoup(response.content, \"html.parser\")\n",
    "    \n",
    "    # Navigate through the structure to find the table\n",
    "    target_table = soup.select_one(\"div > div > div > div > table > tbody > tr:nth-of-type(2) > td > table:nth-of-type(1)\")\n",
    "    \n",
    "    if target_table:\n",
    "        # Convert the table into a DataFrame\n",
    "        df = pd.read_html(io.StringIO(str(target_table)))[0]\n",
    "        print(df)\n",
    "    else:\n",
    "        print(\"Target table not found!\")\n",
    "else:\n",
    "    print(f\"Failed to retrieve the webpage. Status code: {response.status_code}\")"
   ]
  },
  {
   "cell_type": "code",
   "execution_count": 13,
   "metadata": {},
   "outputs": [],
   "source": [
    "df.to_csv('TaiwanFuturesExchange.csv', index=False, encoding=\"utf-8-sig\")"
   ]
  }
 ],
 "metadata": {
  "kernelspec": {
   "display_name": "StockMarketIndexAI",
   "language": "python",
   "name": "python3"
  },
  "language_info": {
   "codemirror_mode": {
    "name": "ipython",
    "version": 3
   },
   "file_extension": ".py",
   "mimetype": "text/x-python",
   "name": "python",
   "nbconvert_exporter": "python",
   "pygments_lexer": "ipython3",
   "version": "3.11.5"
  },
  "orig_nbformat": 4
 },
 "nbformat": 4,
 "nbformat_minor": 2
}
